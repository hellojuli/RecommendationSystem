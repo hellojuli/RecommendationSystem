{
  "metadata": {
    "language_info": {
      "codemirror_mode": {
        "name": "python",
        "version": 3
      },
      "file_extension": ".py",
      "mimetype": "text/x-python",
      "name": "python",
      "nbconvert_exporter": "python",
      "pygments_lexer": "ipython3",
      "version": "3.8"
    },
    "kernelspec": {
      "name": "python",
      "display_name": "Pyolite",
      "language": "python"
    }
  },
  "nbformat_minor": 4,
  "nbformat": 4,
  "cells": [
    {
      "cell_type": "code",
      "source": "ratesByUser = {'Vitor': \n\t\t{'Super Mario Word': 2.5, \n\t\t 'Sonic the hedhehog': 3.5,\n\t\t 'Twisted metal': 3.0, \n\t\t 'Crash bandicoot': 3.5, \n\t\t 'Metal slug': 2.5, \n\t\t 'Spiderman': 3.0},\n\t \n\t  'Julia': \n\t\t{'Super Mario Word': 3.0, \n\t\t 'Sonic the hedhehog': 3.5, \n\t\t 'Twisted metal': 1.5, \n\t\t 'Crash bandicoot': 5.0, \n\t\t 'Spiderman': 3.0, \n\t\t 'Metal slug': 3.5}, \n\n\t  'Melissa': \n\t    {'Super Mario Word': 2.5, \n\t\t 'Sonic the hedhehog': 3.0,\n\t\t 'Crash bandicoot': 3.5, \n\t\t 'Spiderman': 4.0},\n\t\t\t \n\t  'Fernando': \n\t\t{'Super Mario Word': 3.5, \n\t\t 'Twisted metal': 3.0,\n\t\t 'Spiderman': 4.5, \n\t\t 'Crash bandicoot': 4.0, \n\t\t 'Metal slug': 2.5},\n\t\t\t\t \n\t  'Mariana': \n\t\t{'Super Mario Word': 3.0, \n\t\t 'Sonic the hedhehog': 4.0, \n\t\t 'Twisted metal': 2.0, \n\t\t 'Crash bandicoot': 3.0, \n\t\t 'Spiderman': 3.0,\n\t\t 'Metal slug': 2.0}, \n\n\t  'Letícia': \n\t     {'Super Mario Word': 3.0, \n\t      'Sonic the hedhehog': 4.0,\n\t      'Spiderman': 3.0, \n\t      'Crash bandicoot': 5.0, \n\t      'Metal slug': 3.5},\n\t\t\t  \n\t  'Igor': \n\t    {'Sonic the hedhehog':4.5,\n             'Metal slug':1.0,\n\t     'Crash bandicoot':4.0}\n}\n\navaliacoesGames = {'Super Mario Word': \n\t\t{'Vitor': 2.5, \n\t\t 'Julia:': 3.0 ,\n\t\t 'Melissa': 2.5, \n\t\t 'Fernando': 3.0, \n\t\t 'Mariana': 3.0 },\n\t \n\t 'Sonic the hedhehog': \n\t\t{'Vitor': 3.5, \n\t\t 'Julia': 3.5,\n\t\t 'Melissa': 3.0, \n\t\t 'Igor': 3.5, \n\t\t 'Fernando': 4.0, \n\t\t 'Mariana': 4.0,\n\t\t 'Letícia': 4.5 },\n\t\t\t\t \n\t 'Twisted metal': \n\t\t{'Vitor': 3.0, \n\t\t 'Julia:': 1.5,\n\t\t 'Igor': 3.0, \n\t\t 'Fernando': 2.0 },\n\t\n\t 'Crash bandicoot': \n\t\t{'Vitor': 3.5, \n\t\t 'Julia:': 5.0 ,\n\t\t 'Melissa': 3.5, \n\t\t 'Igor': 4.0, \n\t\t 'Fernando': 3.0, \n\t\t 'Mariana': 5.0,\n\t\t 'Letícia': 4.0},\n\t\t\t\t \n\t 'Metal slug': \n\t\t{'Vitor': 2.5, \n\t\t 'Julia:': 3.0 ,\n\t\t 'Igor': 2.5, \n\t\t 'Fernando': 2.0, \n\t\t 'Mariana': 3.5,\n\t\t 'Letícia': 1.0},\n\t\t\t\t \n\t 'Spiderman': \n\t\t{'Vitor': 3.0, \n\t\t 'Julia:': 3.5,\n\t\t 'Melissa': 4.0, \n\t\t 'Igor': 4.5, \n\t\t 'Fernando': 3.0, \n\t\t 'Mariana': 3.0}\n}\n\nfrom math import sqrt\n\ndef euclidiana(data, user1, user2):\n    si = {}\n    for item in data[user1]:\n       if item in data[user2]: si[item] = 1\n\n    if len(si) == 0: return 0\n\n    soma = sum([pow(data[user1][item] - data[user2][item], 2)\n                for item in data[user1] if item in data[user2]])\n    return 1/(1 + sqrt(soma))\n\ndef getSimilares(data, user):\n    similaridade = [(euclidiana(data, user, outro), outro)\n                    for outro in data if outro != user]\n    similaridade.sort()\n    similaridade.reverse()\n    return similaridade[0:30]\n    \ndef getRecommendations(data, user):\n    totais={}\n    somaSimilaridade={}\n    for outro in data:\n        if outro == user: continue\n        similaridade = euclidiana(data, user, outro)\n\n        if similaridade <= 0: continue\n\n        for item in data[outro]:\n            if item not in data[user]:\n                totais.setdefault(item, 0)\n                totais[item] += data[outro][item] * similaridade\n                somaSimilaridade.setdefault(item, 0)\n                somaSimilaridade[item] += similaridade\n    rankings=[(total / somaSimilaridade[item], item) for item, total in totais.items()]\n    rankings.sort()\n    rankings.reverse()\n    return rankings[0:30]\n                \ndef carregaGamesLens(path='C:/ml-100k'):\n    games = {}\n    for linha in open(path + '/u.item'):\n        (id, title) = linha.split('|')[0:2]\n        games[id] = title\n    print(games)\n\n    data = {}\n    for linha in open(path + '/u.data'):\n        (user, idgame, nota, tempo) = linha.split('\\t')\n        data.setdefault(user, {})\n        data[user][games[idgame]] = float(nota)\n    return data            \n\ndef calculaItensSimilares(data):\n    result = {}\n    for item in data:\n        notas = getSimilares(data, item)\n        result[item] = notas\n    return result\n\n\nprint(getRecommendations(ratesByUser,'Igor'))",
      "metadata": {
        "trusted": true
      },
      "execution_count": 9,
      "outputs": [
        {
          "name": "stdout",
          "text": "[(3.4789883727567497, 'Spiderman'), (2.9185640787713294, 'Super Mario Word'), (2.4402237129595394, 'Twisted metal')]\n",
          "output_type": "stream"
        }
      ]
    },
    {
      "cell_type": "code",
      "source": "",
      "metadata": {},
      "execution_count": null,
      "outputs": []
    }
  ]
}